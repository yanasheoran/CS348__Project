{
 "cells": [
  {
   "cell_type": "code",
   "execution_count": 25,
   "metadata": {},
   "outputs": [],
   "source": [
    "import time\n",
    "from flask import Flask\n",
    "from pymongo import MongoClient\n",
    "\n",
    "client = MongoClient(\"localhost\", 27017)\n",
    "db = client.Library"
   ]
  },
  {
   "cell_type": "code",
   "execution_count": 26,
   "metadata": {},
   "outputs": [],
   "source": [
    "Books = [\n",
    "    {\"BookID\": 1,\"Title\": \"The Great Gatsby\", \"Author\": \"F. Scott Fitzgerald\", \"Genre\": \"Fiction\",  \"ISBN\": \"9780743273565\"},\n",
    "    {\"BookID\": 2,\"Title\": \"The Catcher in the Rye\", \"Author \": \"J.D. Salinger\", \"Genre\": \"Fiction\", \"ISBN\": \"9780316769488\"},\n",
    "    {\"BookID\": 3,\"Title\": \"To Kill a Mockingbird \", \"Author\": \"Harper Lee\", \"Genre\": \"Fiction\", \"ISBN\": \"9780061120084\"},\n",
    "    {\"BookID\": 4,\"Title\": \"1984\", \"Author\": \"George Orwell\", \"Genre\": \"Fiction\", \"ISBN\": \"9780451524935\"}, \n",
    "    {\"BookID\": 5,\"Title\": \"Harry Potter and the Sorcerer's Stone\", \"Author\": \"J.K. Rowling\", \"Genre\": \"Fiction\", \"ISBN\": \"9780590353427\"},\n",
    "    {\"BookID\": 6,\"Title\": \"The Hobbit\", \"Author\": \"J.R.R. Tolkien\", \"Genre\": \"Fiction\", \"ISBN\": \"9780618260300\"},\n",
    "]\n",
    "\n",
    "Members = [\n",
    "    {\"MemberID\": 1, \"Name\": \"John\", \"ContactInfo\": \"319-490-7760\", \"MemberStatus\": \"Regular\", \"MembershipDate\": \"03-12-2021\"},\n",
    "    {\"MemberID\": 2, \"Name\": \"Jane\", \"ContactInfo\": \"765-456-7890\", \"MemberStatus\": \"Regular\", \"MembershipDate\": \"09-25-2020\"},\n",
    "    {\"MemberID\": 3, \"Name\": \"Jack\", \"ContactInfo\": \"517-676-8790\", \"MemberStatus\": \"Regular\", \"MembershipDate\": \"01-30-2020\"},\n",
    "    {\"MemberID\": 4, \"Name\": \"Jill\", \"ContactInfo\": \"904-896-3450\", \"MemberStatus\": \"Regular\", \"MembershipDate\": \"04-22-2019\"},\n",
    "    {\"MemberID\": 5, \"Name\": \"James\", \"ContactInfo\": \"517-326-5640\", \"MemberStatus\": \"Regular\", \"MembershipDate\": \"03-02-2018\"},\n",
    "]\n",
    "\n",
    "Loans = [\n",
    "    {\"LoanID\": 1, \"BookID\": 1, \"MemberID\": 3, \"LoanDate\": \"05-06-2022\", \"DueDate\": \"05-06-2023\", \"ReturnDate\": \"05-03-2023\", \"Status\": \"Returned\"},\n",
    "    {\"LoanID\": 2, \"BookID\": 2, \"MemberID\": 3, \"LoanDate\": \"11-09-2023\", \"DueDate\": \"11-09-2024\", \"ReturnDate\": \"-\" , \"Status\": \"On Loan\"},\n",
    "    {\"LoanID\": 3, \"BookID\": 3, \"MemberID\": 2, \"LoanDate\": \"12-22-2022\", \"DueDate\": \"12-22-2023\", \"ReturnDate\": \"11-26-2023\", \"Status\": \"Returned\"},\n",
    "    {\"LoanID\": 4, \"BookID\": 4, \"MemberID\": 4, \"LoanDate\": \"07-19-2023\", \"DueDate\": \"07-19-2024\", \"ReturnDate\":\"-\" , \"Status\": \"On Loan\"},\n",
    "]\n",
    "\n"
   ]
  },
  {
   "cell_type": "code",
   "execution_count": 27,
   "metadata": {},
   "outputs": [
    {
     "data": {
      "text/plain": [
       "InsertManyResult([ObjectId('6608dbaccaa5b81e5d2d5003'), ObjectId('6608dbaccaa5b81e5d2d5004'), ObjectId('6608dbaccaa5b81e5d2d5005'), ObjectId('6608dbaccaa5b81e5d2d5006')], acknowledged=True)"
      ]
     },
     "execution_count": 27,
     "metadata": {},
     "output_type": "execute_result"
    }
   ],
   "source": [
    "# insert data into the collection\n",
    "db.Books.insert_many(Books)\n",
    "db.Members.insert_many(Members)\n",
    "db.Loans.insert_many(Loans)\n"
   ]
  }
 ],
 "metadata": {
  "kernelspec": {
   "display_name": "Python 3",
   "language": "python",
   "name": "python3"
  },
  "language_info": {
   "codemirror_mode": {
    "name": "ipython",
    "version": 3
   },
   "file_extension": ".py",
   "mimetype": "text/x-python",
   "name": "python",
   "nbconvert_exporter": "python",
   "pygments_lexer": "ipython3",
   "version": "3.9.6"
  },
  "orig_nbformat": 4
 },
 "nbformat": 4,
 "nbformat_minor": 2
}
